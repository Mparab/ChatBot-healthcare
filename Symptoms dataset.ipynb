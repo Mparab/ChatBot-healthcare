{
 "cells": [
  {
   "cell_type": "code",
   "execution_count": 1,
   "id": "fa12c915-f9ea-42f8-ae27-6cf8acbbcc8e",
   "metadata": {},
   "outputs": [],
   "source": [
    "import pandas as pd"
   ]
  },
  {
   "cell_type": "code",
   "execution_count": 2,
   "id": "200e0a07-8fa4-4b29-968e-8370778074a4",
   "metadata": {},
   "outputs": [
    {
     "name": "stdout",
     "output_type": "stream",
     "text": [
      "         diseases  anxiety and nervousness  depression  shortness of breath  \\\n",
      "0  panic disorder                        1           0                    1   \n",
      "1  panic disorder                        0           0                    1   \n",
      "2  panic disorder                        1           1                    1   \n",
      "3  panic disorder                        1           0                    0   \n",
      "4  panic disorder                        1           1                    0   \n",
      "\n",
      "   depressive or psychotic symptoms  sharp chest pain  dizziness  insomnia  \\\n",
      "0                                 1                 0          0         0   \n",
      "1                                 1                 0          1         1   \n",
      "2                                 1                 0          1         1   \n",
      "3                                 1                 0          1         1   \n",
      "4                                 0                 0          0         1   \n",
      "\n",
      "   abnormal involuntary movements  chest tightness  ...  \\\n",
      "0                               0                1  ...   \n",
      "1                               0                0  ...   \n",
      "2                               0                0  ...   \n",
      "3                               1                0  ...   \n",
      "4                               1                1  ...   \n",
      "\n",
      "   stuttering or stammering  problems with orgasm  nose deformity  \\\n",
      "0                         0                     0               0   \n",
      "1                         0                     0               0   \n",
      "2                         0                     0               0   \n",
      "3                         0                     0               0   \n",
      "4                         0                     0               0   \n",
      "\n",
      "   lump over jaw  sore in nose  hip weakness  back swelling  \\\n",
      "0              0             0             0              0   \n",
      "1              0             0             0              0   \n",
      "2              0             0             0              0   \n",
      "3              0             0             0              0   \n",
      "4              0             0             0              0   \n",
      "\n",
      "   ankle stiffness or tightness  ankle weakness  neck weakness  \n",
      "0                             0               0              0  \n",
      "1                             0               0              0  \n",
      "2                             0               0              0  \n",
      "3                             0               0              0  \n",
      "4                             0               0              0  \n",
      "\n",
      "[5 rows x 378 columns]\n"
     ]
    }
   ],
   "source": [
    "# Load CSV\n",
    "df = pd.read_csv(\"Final_Augmented_dataset_Diseases_and_Symptoms.csv\")\n",
    "\n",
    "# View the first few rows\n",
    "print(df.head())"
   ]
  },
  {
   "cell_type": "code",
   "execution_count": 3,
   "id": "e14d167a-8318-431e-b367-8a0d7a928300",
   "metadata": {},
   "outputs": [],
   "source": [
    "from sklearn.preprocessing import LabelEncoder\n",
    "\n",
    "le = LabelEncoder()\n",
    "df[\"diseases\"] = le.fit_transform(df[\"diseases\"])\n"
   ]
  },
  {
   "cell_type": "code",
   "execution_count": 4,
   "id": "e21de91d-eca6-4d17-b263-670d45329fb6",
   "metadata": {},
   "outputs": [],
   "source": [
    "X = df.drop(\"diseases\", axis=1)\n",
    "y = df[\"diseases\"]\n"
   ]
  },
  {
   "cell_type": "code",
   "execution_count": 5,
   "id": "fd2ae924-614d-4f29-921a-5c555d7cbb4e",
   "metadata": {},
   "outputs": [],
   "source": [
    "from sklearn.model_selection import train_test_split\n",
    "\n",
    "X_train, X_test, y_train, y_test = train_test_split(X, y, test_size=0.2, random_state=42)\n"
   ]
  },
  {
   "cell_type": "code",
   "execution_count": 1,
   "id": "0ac57f62-b49f-4c57-8a45-3d8d7556c25a",
   "metadata": {},
   "outputs": [
    {
     "ename": "NameError",
     "evalue": "name 'X_train' is not defined",
     "output_type": "error",
     "traceback": [
      "\u001b[0;31m---------------------------------------------------------------------------\u001b[0m",
      "\u001b[0;31mNameError\u001b[0m                                 Traceback (most recent call last)",
      "Cell \u001b[0;32mIn[1], line 6\u001b[0m\n\u001b[1;32m      4\u001b[0m \u001b[38;5;66;03m# Use fewer trees to reduce RAM usage\u001b[39;00m\n\u001b[1;32m      5\u001b[0m model \u001b[38;5;241m=\u001b[39m RandomForestClassifier(n_estimators\u001b[38;5;241m=\u001b[39m\u001b[38;5;241m10\u001b[39m, max_depth\u001b[38;5;241m=\u001b[39m\u001b[38;5;241m10\u001b[39m, random_state\u001b[38;5;241m=\u001b[39m\u001b[38;5;241m42\u001b[39m)\n\u001b[0;32m----> 6\u001b[0m model\u001b[38;5;241m.\u001b[39mfit(X_train, y_train)\n\u001b[1;32m      8\u001b[0m y_pred \u001b[38;5;241m=\u001b[39m model\u001b[38;5;241m.\u001b[39mpredict(X_test)\n\u001b[1;32m      9\u001b[0m \u001b[38;5;28mprint\u001b[39m(\u001b[38;5;124m\"\u001b[39m\u001b[38;5;124mAccuracy:\u001b[39m\u001b[38;5;124m\"\u001b[39m, accuracy_score(y_test, y_pred))\n",
      "\u001b[0;31mNameError\u001b[0m: name 'X_train' is not defined"
     ]
    }
   ],
   "source": [
    "from sklearn.ensemble import RandomForestClassifier\n",
    "from sklearn.metrics import accuracy_score\n",
    "\n",
    "# Use fewer trees to reduce RAM usage\n",
    "model = RandomForestClassifier(n_estimators=10, max_depth=10, random_state=42)\n",
    "model.fit(X_train, y_train)\n",
    "\n",
    "y_pred = model.predict(X_test)\n",
    "print(\"Accuracy:\", accuracy_score(y_test, y_pred))\n"
   ]
  },
  {
   "cell_type": "code",
   "execution_count": null,
   "id": "1ba42b31-139c-4c02-a02f-41610f8f20fd",
   "metadata": {},
   "outputs": [],
   "source": []
  }
 ],
 "metadata": {
  "kernelspec": {
   "display_name": "Python 3 (ipykernel)",
   "language": "python",
   "name": "python3"
  },
  "language_info": {
   "codemirror_mode": {
    "name": "ipython",
    "version": 3
   },
   "file_extension": ".py",
   "mimetype": "text/x-python",
   "name": "python",
   "nbconvert_exporter": "python",
   "pygments_lexer": "ipython3",
   "version": "3.12.4"
  }
 },
 "nbformat": 4,
 "nbformat_minor": 5
}
